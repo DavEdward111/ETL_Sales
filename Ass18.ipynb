{
 "cells": [
  {
   "cell_type": "code",
   "execution_count": 1,
   "id": "ef3edebc",
   "metadata": {},
   "outputs": [],
   "source": [
    "import pandas as pd"
   ]
  },
  {
   "cell_type": "code",
   "execution_count": 2,
   "id": "0f3cf630",
   "metadata": {},
   "outputs": [],
   "source": [
    "import psycopg2"
   ]
  },
  {
   "cell_type": "code",
   "execution_count": 16,
   "id": "3b8c822b",
   "metadata": {},
   "outputs": [],
   "source": [
    "df = pd.read_csv(\"sales.csv\", encoding=\"latin1\")\n"
   ]
  },
  {
   "cell_type": "markdown",
   "id": "e53f6572",
   "metadata": {},
   "source": [
    "#### Extract "
   ]
  },
  {
   "cell_type": "code",
   "execution_count": null,
   "id": "08b2de6e",
   "metadata": {},
   "outputs": [],
   "source": [
    "# Extracting the file\n",
    "def extract():\n",
    "    df = pd.read_csv(\"sales.csv\", encoding = \"latin1\")\n",
    "    return df"
   ]
  },
  {
   "cell_type": "markdown",
   "id": "f950e4c3",
   "metadata": {},
   "source": [
    "### Transform"
   ]
  },
  {
   "cell_type": "code",
   "execution_count": 29,
   "id": "813fa264",
   "metadata": {},
   "outputs": [],
   "source": [
    "# Transforming and cleaning the dataset\n",
    "def transform(df):\n",
    "    # drop unwanted columns\n",
    "    columns_to_drop = [\"ORDERLINENUMBER\", \"STATUS\", \"QTR_ID\", \"MONTH_ID\", \"YEAR_ID\", \"MSRP\",\n",
    "        \"PHONE\", \"ADDRESSLINE1\", \"ADDRESSLINE2\", \"CITY\", \"STATE\", \"POSTALCODE\",\n",
    "        \"COUNTRY\", \"TERRITORY\", \"CONTACTLASTNAME\", \"CONTACTFIRSTNAME\", \"DEALSIZE\"]\n",
    "    df = df.drop(columns=columns_to_drop, errors = \"ignore\")\n",
    "    # removing duplicate\n",
    "    df = df.drop_duplicates()\n",
    "    # Handling missing values\n",
    "    df = df.dropna(subset=[\"ORDERNUMBER\", \"ORDERDATE\", \"PRODUCTCODE\", \"CUSTOMERNAME\", \"PRICEEACH\", \"QUANTITYORDERED\"])\n",
    "    # convert date format\n",
    "    df[\"ORDERDATE\"] = pd.to_datetime(df[\"ORDERDATE\"], errors=\"coerce\")\n",
    "    df = df[df[\"ORDERDATE\"].notna()]  # drop rows where date conversion failed\n",
    "    # Standardize text\n",
    "    df[\"PRODUCTLINE\"] = df[\"PRODUCTLINE\"].str.title()\n",
    "    df[\"CUSTOMERNAME\"] = df[\"CUSTOMERNAME\"].str.title()\n",
    "    # create total revenue column\n",
    "    df[\"TOTALREVENUE\"] = df[\"QUANTITYORDERED\"] * df[\"PRICEEACH\"]\n",
    "    # filter year 2004 only\n",
    "    df = df[df[\"ORDERDATE\"].dt.year == 2004]\n",
    "    return df\n"
   ]
  },
  {
   "cell_type": "code",
   "execution_count": 42,
   "id": "507cf21b",
   "metadata": {},
   "outputs": [
    {
     "name": "stdout",
     "output_type": "stream",
     "text": [
      "(1345, 9)\n"
     ]
    }
   ],
   "source": [
    "clean_data = transform(df)\n",
    "print(clean_data.shape)"
   ]
  },
  {
   "cell_type": "markdown",
   "id": "4284c501",
   "metadata": {},
   "source": [
    "### Load"
   ]
  },
  {
   "cell_type": "code",
   "execution_count": null,
   "id": "3d2df0ab",
   "metadata": {},
   "outputs": [],
   "source": [
    "# Load data cleaned\n",
    "def load(df):\n",
    "    connection = psycopg2.connect(\n",
    "            host = \"localhost\",\n",
    "            dbname = \"Sales_ETL\",\n",
    "            user = \"postgres\",\n",
    "            password = \"xyz\"\n",
    "    )\n",
    "\n",
    "    con = connection.cursor()\n",
    "\n",
    "    for _, row in df.iterrows():\n",
    "        con.execute(\"\"\"\n",
    "                    INSERT INTO Sales_data(\n",
    "                    ORDERNUMBER, QUANTITYORDERED, PRICEEACH, SALES,\n",
    "                    ORDERDATE, PRODUCTLINE, PRODUCTCODE, CUSTOMERNAME, TOTALREVENUE)\n",
    "                    VALUES (%s,%s,%s,%s,%s,%s,%s,%s,%s)\n",
    "                    ON CONFLICT (ORDERNUMBER, PRODUCTCODE) DO NOTHING \"\"\", tuple (row)\n",
    "                    )\n",
    "        \n",
    "        connection.commit()\n",
    "        con.close()\n",
    "        connection.close()"
   ]
  },
  {
   "cell_type": "markdown",
   "id": "45099fb4",
   "metadata": {},
   "source": [
    "### Combined "
   ]
  },
  {
   "cell_type": "code",
   "execution_count": null,
   "id": "8ca89db2",
   "metadata": {},
   "outputs": [
    {
     "name": "stdout",
     "output_type": "stream",
     "text": [
      "Data loaded successfully into Sales_data table.\n"
     ]
    }
   ],
   "source": [
    "#putting each processes in a function block\n",
    "def extract():\n",
    "    df = pd.read_csv(\"sales.csv\", encoding = \"latin1\")\n",
    "    return df\n",
    "\n",
    "def transform(df):\n",
    "    # drop unwanted columns\n",
    "    columns_to_drop = [\"ORDERLINENUMBER\", \"STATUS\", \"QTR_ID\", \"MONTH_ID\", \"YEAR_ID\", \"MSRP\",\n",
    "        \"PHONE\", \"ADDRESSLINE1\", \"ADDRESSLINE2\", \"CITY\", \"STATE\", \"POSTALCODE\",\n",
    "        \"COUNTRY\", \"TERRITORY\", \"CONTACTLASTNAME\", \"CONTACTFIRSTNAME\", \"DEALSIZE\"]\n",
    "    df = df.drop(columns=columns_to_drop, errors = \"ignore\")\n",
    "    # removing duplicate\n",
    "    df = df.drop_duplicates()\n",
    "    # Handling missing values\n",
    "    df = df.dropna(subset=[\"ORDERNUMBER\", \"ORDERDATE\", \"PRODUCTCODE\", \"CUSTOMERNAME\", \"PRICEEACH\", \"QUANTITYORDERED\"])\n",
    "    # convert date format\n",
    "    df[\"ORDERDATE\"] = pd.to_datetime(df[\"ORDERDATE\"], errors=\"coerce\")\n",
    "    df = df[df[\"ORDERDATE\"].notna()]  # drop rows where date conversion failed\n",
    "    # Standardize text\n",
    "    df[\"PRODUCTLINE\"] = df[\"PRODUCTLINE\"].str.title()\n",
    "    df[\"CUSTOMERNAME\"] = df[\"CUSTOMERNAME\"].str.title()\n",
    "    # create total revenue column\n",
    "    df[\"TOTALREVENUE\"] = df[\"QUANTITYORDERED\"] * df[\"PRICEEACH\"]\n",
    "    # filter year 2004 only\n",
    "    df = df[df[\"ORDERDATE\"].dt.year == 2004]\n",
    "    return df\n",
    "\n",
    "def load(df):\n",
    "    try:\n",
    "        connection = psycopg2.connect(\n",
    "                host = \"localhost\",\n",
    "                dbname = \"Sales_ETL\",\n",
    "                user = \"postgres\",\n",
    "                password = \"xyz\"\n",
    "        )\n",
    "\n",
    "        con = connection.cursor()\n",
    "\n",
    "        for _, row in df.iterrows():\n",
    "            con.execute(\"\"\"\n",
    "                        INSERT INTO Sales_data(\n",
    "                        ORDERNUMBER, QUANTITYORDERED, PRICEEACH, SALES,\n",
    "                        ORDERDATE, PRODUCTLINE, PRODUCTCODE, CUSTOMERNAME, TOTALREVENUE)\n",
    "                        VALUES (%s,%s,%s,%s,%s,%s,%s,%s,%s) \n",
    "                        ON CONFLICT (ORDERNUMBER, PRODUCTCODE) DO NOTHING \"\"\",  \n",
    "                        (\n",
    "                            row[\"ORDERNUMBER\"],\n",
    "                            row[\"QUANTITYORDERED\"],\n",
    "                            row[\"PRICEEACH\"],\n",
    "                            row[\"SALES\"],\n",
    "                            row[\"ORDERDATE\"],\n",
    "                            row[\"PRODUCTLINE\"],\n",
    "                            row[\"PRODUCTCODE\"],\n",
    "                            row[\"CUSTOMERNAME\"],\n",
    "                            row[\"TOTALREVENUE\"]\n",
    "                        ))\n",
    "            \n",
    "        connection.commit()\n",
    "        con.close()\n",
    "        connection.close()\n",
    "\n",
    "        print(\"Data loaded successfully into Sales_data table.\")\n",
    "\n",
    "    except Exception as e:\n",
    "        print(\"Error\", e)\n",
    "    \n",
    "if __name__ == \"__main__\":\n",
    "    raw_data = extract()\n",
    "    clean_data = transform(raw_data)\n",
    "    load(clean_data)\n",
    "\n"
   ]
  }
 ],
 "metadata": {
  "kernelspec": {
   "display_name": "env",
   "language": "python",
   "name": "python3"
  },
  "language_info": {
   "codemirror_mode": {
    "name": "ipython",
    "version": 3
   },
   "file_extension": ".py",
   "mimetype": "text/x-python",
   "name": "python",
   "nbconvert_exporter": "python",
   "pygments_lexer": "ipython3",
   "version": "3.13.2"
  }
 },
 "nbformat": 4,
 "nbformat_minor": 5
}
